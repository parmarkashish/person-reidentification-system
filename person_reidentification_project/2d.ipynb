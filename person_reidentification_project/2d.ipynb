{
 "cells": [
  {
   "cell_type": "code",
   "execution_count": 4,
   "metadata": {},
   "outputs": [
    {
     "name": "stdout",
     "output_type": "stream",
     "text": [
      "[1, 2, 3]\n"
     ]
    }
   ],
   "source": [
    "file_vector=[1,2,3]\n",
    "file_vector1=[4,5,6]\n",
    "folder_vector=[]\n",
    "past_ppl_vector=[]\n",
    "folder_vector.append(file_vector)\n",
    "folder_vector.append(file_vector1)\n",
    "past_ppl_vector.append(folder_vector)\n",
    "print(past_ppl_vector[0][0])"
   ]
  }
 ],
 "metadata": {
  "kernelspec": {
   "display_name": "Python 3",
   "language": "python",
   "name": "python3"
  },
  "language_info": {
   "codemirror_mode": {
    "name": "ipython",
    "version": 3
   },
   "file_extension": ".py",
   "mimetype": "text/x-python",
   "name": "python",
   "nbconvert_exporter": "python",
   "pygments_lexer": "ipython3",
   "version": "3.6.10"
  }
 },
 "nbformat": 4,
 "nbformat_minor": 2
}
